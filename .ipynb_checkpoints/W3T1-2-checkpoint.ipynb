{
 "cells": [
  {
   "cell_type": "markdown",
   "metadata": {
    "scrolled": true
   },
   "source": [
    "# Minimizing smooth function"
   ]
  },
  {
   "cell_type": "code",
   "execution_count": 156,
   "metadata": {},
   "outputs": [],
   "source": [
    "%matplotlib inline\n",
    "import numpy as np\n",
    "import matplotlib.pyplot as plt\n",
    "import scipy.optimize as opt\n",
    "import math"
   ]
  },
  {
   "cell_type": "code",
   "execution_count": 157,
   "metadata": {},
   "outputs": [],
   "source": [
    "file_obj = open('W3answer1.txt', 'w')\n",
    "x = np.arange (1., 30.)\n",
    "\n",
    "def f(x):\n",
    "    return np.sin(x/5.)*np.exp(x/10.)+5*np.exp(-x/2.)\n",
    "\n",
    "res = str('%.2f' % f(opt.minimize(f, 2, method='BFGS').x))\n",
    "res += ' '+str('%.2f' % f(opt.minimize(f, 30, method='BFGS').x))\n",
    "file_obj.writelines(res)\n"
   ]
  },
  {
   "cell_type": "markdown",
   "metadata": {},
   "source": [
    "# Global optimization"
   ]
  },
  {
   "cell_type": "code",
   "execution_count": 158,
   "metadata": {},
   "outputs": [],
   "source": [
    "file_obj = open('W3answer2.txt', 'w')\n",
    "res = '%.2f' % f(opt.differential_evolution(f, [[1, 30]]).x)\n",
    "file_obj.writelines(str(res))"
   ]
  },
  {
   "cell_type": "markdown",
   "metadata": {},
   "source": [
    "# Minimize non-smooth function"
   ]
  },
  {
   "cell_type": "code",
   "execution_count": 172,
   "metadata": {},
   "outputs": [
    {
     "data": {
      "text/plain": [
       "[<matplotlib.lines.Line2D at 0x101fcb1310>,\n",
       " <matplotlib.lines.Line2D at 0x101fcb13d0>]"
      ]
     },
     "execution_count": 172,
     "metadata": {},
     "output_type": "execute_result"
    },
    {
     "data": {
      "image/png": "[encoded data removed]",
      "text/plain": [
       "<Figure size 432x288 with 1 Axes>"
      ]
     },
     "metadata": {
      "needs_background": "light"
     },
     "output_type": "display_data"
    }
   ],
   "source": [
    "def h(x):#non-smooth function\n",
    "    return (f(x)).astype(int)\n",
    "\n",
    "file_obj = open('W3answer3.txt', 'w')\n",
    "res = str('%.2f' % h(opt.minimize(h, 30, method='BFGS').x))\n",
    "res += ' ' + '%.2f' % h(opt.differential_evolution(h, [[1, 30]]).x)\n",
    "file_obj.writelines(str(res))\n",
    "\n",
    "plt.plot(x, h(x),'-b', x, f(x), '--r')"
   ]
  },
  {
   "cell_type": "code",
   "execution_count": null,
   "metadata": {},
   "outputs": [],
   "source": []
  },
  {
   "cell_type": "code",
   "execution_count": null,
   "metadata": {},
   "outputs": [],
   "source": []
  },
  {
   "cell_type": "code",
   "execution_count": null,
   "metadata": {},
   "outputs": [],
   "source": []
  },
  {
   "cell_type": "code",
   "execution_count": null,
   "metadata": {},
   "outputs": [],
   "source": []
  }
 ],
 "metadata": {
  "kernelspec": {
   "display_name": "Python 2",
   "language": "python",
   "name": "python2"
  },
  "language_info": {
   "codemirror_mode": {
    "name": "ipython",
    "version": 2
   },
   "file_extension": ".py",
   "mimetype": "text/x-python",
   "name": "python",
   "nbconvert_exporter": "python",
   "pygments_lexer": "ipython2",
   "version": "2.7.15"
  }
 },
 "nbformat": 4,
 "nbformat_minor": 2
}
